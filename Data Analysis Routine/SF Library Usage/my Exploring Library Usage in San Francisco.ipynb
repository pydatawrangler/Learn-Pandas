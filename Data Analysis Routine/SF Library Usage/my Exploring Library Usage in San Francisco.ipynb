{
  "cells": [
    {
      "cell_type": "markdown",
      "metadata": {
        "id": "view-in-github",
        "colab_type": "text"
      },
      "source": [
        "<a href=\"https://colab.research.google.com/github/pydatawrangler/Learn-Pandas/blob/master/Data%20Analysis%20Routine/SF%20Library%20Usage/my%20Exploring%20Library%20Usage%20in%20San%20Francisco.ipynb\" target=\"_parent\"><img src=\"https://colab.research.google.com/assets/colab-badge.svg\" alt=\"Open In Colab\"/></a>"
      ]
    },
    {
      "cell_type": "markdown",
      "source": [
        "Saved this to my github"
      ],
      "metadata": {
        "id": "zZcpl9B8we7J"
      }
    },
    {
      "cell_type": "markdown",
      "metadata": {
        "id": "VJBLEZ5vwaj9"
      },
      "source": [
        "# Exploring Library Usage in San Francisco\n",
        "\n",
        "## Project Start Date: 3/8/2018\n",
        "\n",
        "## Analyst: Ted Petrou\n",
        "\n",
        "## Summary\n",
        "In this notebook, we will follow the outline from the **First Look at Data** section onwards. We will systematically explore the basic facets of the data. This is just a starting point for our analysis and will be used as a launching point for future investigation."
      ]
    },
    {
      "cell_type": "markdown",
      "metadata": {
        "id": "RBoHpOpZwakF"
      },
      "source": [
        "## Load libraries\n",
        "The vast majority (or sometimes all) the analysis for this routine can be completed with just pandas. NumPy can help with a few rare cases where no available pandas method exists or where increase in performance is necessary.\n",
        "\n",
        "Pandas can also make a few, but very common, visualizations. Seaborn is imported to make a few different and more aethstetically pleasing visualizations."
      ]
    },
    {
      "cell_type": "code",
      "execution_count": null,
      "metadata": {
        "id": "4lDcNj0twakH"
      },
      "outputs": [],
      "source": [
        "import pandas as pd\n",
        "import numpy as np\n",
        "import seaborn as sns\n",
        "\n",
        "%matplotlib inline"
      ]
    },
    {
      "cell_type": "code",
      "execution_count": null,
      "metadata": {
        "id": "vpDUbqiPwakJ"
      },
      "outputs": [],
      "source": [
        "library = pd.read_csv('data/library_usage.csv')"
      ]
    },
    {
      "cell_type": "markdown",
      "metadata": {
        "id": "sWjfA4djwakK"
      },
      "source": [
        "## First glance at data\n",
        "Use the `head` or `tail` commands to display the first/last rows of data. JupyterLab now has the ability to display csv files, so you can permanently keep the dataset open to browse at your liking while simultaneously working in the notebook."
      ]
    },
    {
      "cell_type": "code",
      "execution_count": null,
      "metadata": {
        "id": "dwrddG9EwakL"
      },
      "outputs": [],
      "source": [
        "library.head()"
      ]
    },
    {
      "cell_type": "markdown",
      "metadata": {
        "id": "JGp02RqDwakN"
      },
      "source": [
        "## Studying the data dictionary\n",
        "Its important to take a close look at the data dictionary to get a solid understanding of each column.\n",
        "\n",
        "## What if there is no data dictionary?\n",
        "It is your job to find one or create one. I suggest asking database admins or searching online before attempting to create one yourself.\n",
        "\n",
        "## Do you upkeep the data dictionary by hand or in pandas?\n",
        "Pandas is not specifically designed for keeping notes in cells but it can be done somewhat pain-free. Pandas does however, allow you to add metadata very easily to columns. I will use pandas to keep all the notes and metadata. Using a spreadsheet is also acceptable and allows you to make edits a bit faster."
      ]
    },
    {
      "cell_type": "markdown",
      "metadata": {
        "id": "kTYKZ4TMwakO"
      },
      "source": [
        "## Loading the data dictionary as a DataFrame\n",
        "I converted the original data dictionary as an Excel file to a csv so that I could easily load it into pandas."
      ]
    },
    {
      "cell_type": "code",
      "execution_count": null,
      "metadata": {
        "id": "Xl3fCK2_wakQ"
      },
      "outputs": [],
      "source": [
        "library_dd = pd.read_csv('data/Data Dictionary.csv')\n",
        "library_dd"
      ]
    },
    {
      "cell_type": "code",
      "execution_count": null,
      "metadata": {
        "id": "Umb_fOT-wakR"
      },
      "outputs": [],
      "source": [
        "pd.options.display.max_colwidth"
      ]
    },
    {
      "cell_type": "code",
      "execution_count": null,
      "metadata": {
        "id": "g_Kr-p1gwakS"
      },
      "outputs": [],
      "source": [
        "pd.options.display.max_colwidth = 200"
      ]
    },
    {
      "cell_type": "code",
      "execution_count": null,
      "metadata": {
        "id": "xuH1JVavwakT"
      },
      "outputs": [],
      "source": [
        "library_dd"
      ]
    },
    {
      "cell_type": "markdown",
      "metadata": {
        "id": "VfDgdVs9wakT"
      },
      "source": [
        "## Pandas data types\n",
        "The data types in the official data dictionary are generic and not specific to pandas. Instead of using this default data dictinoary, we can create our own. Let's first copy it into a new variable."
      ]
    },
    {
      "cell_type": "code",
      "execution_count": null,
      "metadata": {
        "id": "2C-i4bNMwakU"
      },
      "outputs": [],
      "source": [
        "library_dd_pandas = library_dd.copy()"
      ]
    },
    {
      "cell_type": "markdown",
      "metadata": {
        "id": "DpmfFaxhwakU"
      },
      "source": [
        "## Replace the generic data types with pandas data types"
      ]
    },
    {
      "cell_type": "code",
      "execution_count": null,
      "metadata": {
        "id": "jDGf-QNGwakU"
      },
      "outputs": [],
      "source": [
        "library.dtypes"
      ]
    },
    {
      "cell_type": "code",
      "execution_count": null,
      "metadata": {
        "id": "8hkXvP9iwakV"
      },
      "outputs": [],
      "source": [
        "library_dd_pandas['Data Type'] = library.dtypes"
      ]
    },
    {
      "cell_type": "code",
      "execution_count": null,
      "metadata": {
        "id": "rV7biMtlwakV"
      },
      "outputs": [],
      "source": [
        "library_dd_pandas"
      ]
    },
    {
      "cell_type": "markdown",
      "metadata": {
        "id": "InIn94rFwakW"
      },
      "source": [
        "## What went wrong?\n",
        "Pandas aligns first on the index (the labels on the left in **bold**) of each object. `library.dtypes` has the **column names** as the index. The data dictionary just has **integers**. No alignment happens and missing values are the result.\n",
        "\n",
        "## Move column name into the index\n",
        "We can move the column names into the index from **`library_dd_pandas`** so that all future column data is automatically aligned properly."
      ]
    },
    {
      "cell_type": "code",
      "execution_count": null,
      "metadata": {
        "id": "pn_AHQdJwakW"
      },
      "outputs": [],
      "source": [
        "library_dd_pandas = library_dd_pandas.rename(columns={'Field Name': 'Column Name'}) \\\n",
        "                                     .set_index('Column Name')\n",
        "library_dd_pandas"
      ]
    },
    {
      "cell_type": "markdown",
      "metadata": {
        "id": "m1q9bEnCwakX"
      },
      "source": [
        "## Redo previous operation\n",
        "Now that the indexes are identical, the alignment will "
      ]
    },
    {
      "cell_type": "code",
      "execution_count": null,
      "metadata": {
        "id": "PT7PPm3xwakX"
      },
      "outputs": [],
      "source": [
        "library_dd_pandas['Data Type'] = library.dtypes"
      ]
    },
    {
      "cell_type": "code",
      "execution_count": null,
      "metadata": {
        "id": "Oq-f4csTwakX"
      },
      "outputs": [],
      "source": [
        "library_dd_pandas"
      ]
    },
    {
      "cell_type": "markdown",
      "metadata": {
        "id": "heqgvyNzwakY"
      },
      "source": [
        "## There's still something wrong - Birth Date column has a missing data type!\n",
        "Each column's data type should never be missing, yet we are getting a missing value for the **`Birth Date`** column. This column is named **`Age Range`** in the actual dataset.\n",
        "\n",
        "## Ensure all columns are the same in both DataFrames\n",
        "Let's do a sanity check and see if there are same number of columns in the data as there are descriptions in the data dictionary."
      ]
    },
    {
      "cell_type": "code",
      "execution_count": null,
      "metadata": {
        "id": "TslukuCPwakY"
      },
      "outputs": [],
      "source": [
        "len(library.columns)"
      ]
    },
    {
      "cell_type": "code",
      "execution_count": null,
      "metadata": {
        "id": "82wd2wnHwakY"
      },
      "outputs": [],
      "source": [
        "len(library_dd_pandas.index)"
      ]
    },
    {
      "cell_type": "markdown",
      "metadata": {
        "id": "pz7spqWRwakZ"
      },
      "source": [
        "## Failed sanity test\n",
        "We don't even have the same number of values in each one.\n",
        "\n",
        "## Find which values are in one but not the other\n",
        "Use the `isin` method to find which values are in the data dictionary but are not columns in the data and vice-versa:"
      ]
    },
    {
      "cell_type": "code",
      "execution_count": null,
      "metadata": {
        "id": "SbjtlSV4wakZ"
      },
      "outputs": [],
      "source": [
        "isin_dd = library_dd_pandas.index.isin(library.columns)\n",
        "library_dd_pandas.index[~isin_dd]"
      ]
    },
    {
      "cell_type": "code",
      "execution_count": null,
      "metadata": {
        "id": "VEI9321owakZ"
      },
      "outputs": [],
      "source": [
        "isin_data = library.columns.isin(library_dd_pandas.index)\n",
        "library.columns[~isin_data]"
      ]
    },
    {
      "cell_type": "markdown",
      "metadata": {
        "id": "wDm75Ze2waka"
      },
      "source": [
        "## Conclusions of column name mistakes\n",
        "* **`Birth Date`** from the data dictionary is named **`Age Range`** in the data.\n",
        "* **`Circulation Active Month`** is in the data but absent from the data dictionary.\n",
        "\n",
        "Let's rename **`Birth Date`** in data dictionary"
      ]
    },
    {
      "cell_type": "code",
      "execution_count": null,
      "metadata": {
        "id": "KBoExgc7waka"
      },
      "outputs": [],
      "source": [
        "library_dd_pandas = library_dd_pandas.rename(index={'Birth Date': 'Age Range'})\n",
        "library_dd_pandas"
      ]
    },
    {
      "cell_type": "markdown",
      "metadata": {
        "id": "zHDyroM_waka"
      },
      "source": [
        "## Insert new row for Circulation Active Month\n",
        "This is tricky and not easily accomplished with pandas. \n",
        "* First, select the **`Circulation Active Year`** row as a **`Series`**\n",
        "* Change the the definition and change the **`name`** which will be used as the new index label."
      ]
    },
    {
      "cell_type": "code",
      "execution_count": null,
      "metadata": {
        "id": "qM84iSRXwakb"
      },
      "outputs": [],
      "source": [
        "circulation_am = library_dd_pandas.loc['Circulation Active Year']\n",
        "circulation_am['Definition'] = 'Month the patron last checked out library materials, ' \\\n",
        "                               'or last logged into the library’s subscription databases ' \\\n",
        "                               'from a computer outside the library.'\n",
        "circulation_am.name = 'Circulation Active Month'"
      ]
    },
    {
      "cell_type": "markdown",
      "metadata": {
        "id": "fpMqAzU_wakc"
      },
      "source": [
        "## Cut old data dictionary to pieces and splice in new row"
      ]
    },
    {
      "cell_type": "code",
      "execution_count": null,
      "metadata": {
        "id": "H-CGtALewakc"
      },
      "outputs": [],
      "source": [
        "df1 = library_dd_pandas.loc[:'Home Library Definition']\n",
        "df2 = library_dd_pandas.loc['Circulation Active Year':]\n",
        "library_dd_new = df1.append(circulation_am).append(df2)\n",
        "library_dd_new"
      ]
    },
    {
      "cell_type": "markdown",
      "metadata": {
        "id": "0pHJ3qYtwakd"
      },
      "source": [
        "## Are we finally ready to align the data?\n",
        "Let's find out one more time and add in the data types"
      ]
    },
    {
      "cell_type": "code",
      "execution_count": null,
      "metadata": {
        "id": "Cl4x4IUKwakd"
      },
      "outputs": [],
      "source": [
        "library_dd_new['Data Type'] = library.dtypes\n",
        "library_dd_new"
      ]
    },
    {
      "cell_type": "markdown",
      "metadata": {
        "id": "iZ3XYdgEwakd"
      },
      "source": [
        "## Comparing the pandas data types to the original data types\n",
        "All the data types seem to match. Pandas uses the **object** data type to hold text. But, if you look closely, the **`Circulation Active Year`** is text even though it appears to be an integer. We will come back to this later."
      ]
    },
    {
      "cell_type": "markdown",
      "metadata": {
        "id": "ecudZY3Iwakd"
      },
      "source": [
        "## Making notes and updating the data dictionary\n",
        "Its quite straightforward to update the data dictionary. We just need to select the exact cell of data with the **`.loc`** indexer and give it a new value.\n",
        "\n",
        "Let's make a note that the **`Circulation Active Month`** was not in the orginal data dictionary"
      ]
    },
    {
      "cell_type": "code",
      "execution_count": null,
      "metadata": {
        "id": "NFT8K6Jhwake"
      },
      "outputs": [],
      "source": [
        "# rename column Notes (optional) to Notes\n",
        "library_dd_new = library_dd_new.rename(columns={'Notes (optional)': 'Notes'})"
      ]
    },
    {
      "cell_type": "code",
      "execution_count": null,
      "metadata": {
        "id": "9OMfiRyfwake"
      },
      "outputs": [],
      "source": [
        "library_dd_new.loc['Circulation Active Month', 'Notes'] = 'This column was not in original data dictionary'\n",
        "library_dd_new"
      ]
    },
    {
      "cell_type": "markdown",
      "metadata": {
        "id": "-8WBBK9lwake"
      },
      "source": [
        "## Continuing on with checklist\n",
        "Find the number of rows and columns"
      ]
    },
    {
      "cell_type": "code",
      "execution_count": null,
      "metadata": {
        "id": "qk2XqkE6wake"
      },
      "outputs": [],
      "source": [
        "library.shape"
      ]
    },
    {
      "cell_type": "markdown",
      "metadata": {
        "id": "0TxP4h6qwakf"
      },
      "source": [
        "## Get a distribution of the data types"
      ]
    },
    {
      "cell_type": "code",
      "execution_count": null,
      "metadata": {
        "id": "BO_WDkKSwakf"
      },
      "outputs": [],
      "source": [
        "library.dtypes.value_counts()"
      ]
    },
    {
      "cell_type": "markdown",
      "metadata": {
        "id": "hj7AIH96wakf"
      },
      "source": [
        "## Find the number of missing values per column"
      ]
    },
    {
      "cell_type": "code",
      "execution_count": null,
      "metadata": {
        "id": "ySxBkpyEwakf"
      },
      "outputs": [],
      "source": [
        "library.isna().sum()"
      ]
    },
    {
      "cell_type": "markdown",
      "metadata": {
        "id": "Gy9JR1ncwakf"
      },
      "source": [
        "## Append this as a column to the data dictionary\n",
        "Index alignment helps us out here"
      ]
    },
    {
      "cell_type": "code",
      "execution_count": null,
      "metadata": {
        "id": "lEEIfSiOwakf"
      },
      "outputs": [],
      "source": [
        "library_dd_new['Missing Values Count'] = library.isna().sum()\n",
        "library_dd_new"
      ]
    },
    {
      "cell_type": "markdown",
      "metadata": {
        "id": "6hUY2t9twakg"
      },
      "source": [
        "## Can also do % of missing values"
      ]
    },
    {
      "cell_type": "code",
      "execution_count": null,
      "metadata": {
        "id": "8OmA4oJ-wakg"
      },
      "outputs": [],
      "source": [
        "library_dd_new['Missing Values %'] = library.isna().mean()\n",
        "library_dd_new"
      ]
    },
    {
      "cell_type": "markdown",
      "metadata": {
        "id": "5zAyM5y1wakg"
      },
      "source": [
        "## Is the data tidy?\n",
        "This is an important question to ask towards the very beginning of a data analysis. Hadley Wickham is famous for instilling this core tennet.\n",
        "\n",
        "Tidy data is when:\n",
        "* Each variable forms a column\n",
        "* Each observation forms a row\n",
        "* Each observational unit forms a table\n",
        "\n",
        "## Check to see if our data is tidy\n",
        "Most data from relational databases will meet this criteria. This data is likely stored in a relational database and from the description we know that each row reprsents a single patron (an observation).\n",
        "\n",
        "Some columns appear to have duplicate information and we may not need them. Although, this isn't strictly mentioned in the three tidy principles, duplicate information won't add anything to our analysis.\n",
        "\n",
        "## Check for duplication of Patron Type Code amd Patron Type Description\n",
        "We can do a **two-way contingency table** to count the co-occurrences of each pair to determine if there is indeed a one-to-one mapping"
      ]
    },
    {
      "cell_type": "code",
      "execution_count": null,
      "metadata": {
        "id": "ay7dKwH0wakg"
      },
      "outputs": [],
      "source": [
        "patron_table = pd.crosstab(library['Patron Type Code'], library['Patron Type Definition'])\n",
        "patron_table"
      ]
    },
    {
      "cell_type": "markdown",
      "metadata": {
        "id": "AkNNBqtSwakg"
      },
      "source": [
        "# Ensuring a one to one relationship\n",
        "Let's see if the sum equals the maximum for all columns. If it does, then we can drop one of the columns."
      ]
    },
    {
      "cell_type": "code",
      "execution_count": null,
      "metadata": {
        "id": "QHsyfGROwakh"
      },
      "outputs": [],
      "source": [
        "patron_table.sum() == patron_table.max()"
      ]
    },
    {
      "cell_type": "markdown",
      "metadata": {
        "id": "orUhi8Wewakh"
      },
      "source": [
        "# Drop the Patron Type Code"
      ]
    },
    {
      "cell_type": "code",
      "execution_count": null,
      "metadata": {
        "id": "6c0rC57ywakh"
      },
      "outputs": [],
      "source": [
        "library_new = library.drop(columns='Patron Type Code')\n",
        "library_new.head()"
      ]
    },
    {
      "cell_type": "markdown",
      "metadata": {
        "id": "YLdYkQdewaki"
      },
      "source": [
        "## Repeat for Notice Preference Code and Notice Preference Definition"
      ]
    },
    {
      "cell_type": "code",
      "execution_count": null,
      "metadata": {
        "id": "V82moM0ywaki"
      },
      "outputs": [],
      "source": [
        "pd.crosstab(library['Notice Preference Code'], library['Notice Preference Definition'])"
      ]
    },
    {
      "cell_type": "markdown",
      "metadata": {
        "id": "C8DLKmB3waki"
      },
      "source": [
        "We can easily determine that there is indeed a one-to-one mapping. Let's again drop the code and keep the definition."
      ]
    },
    {
      "cell_type": "code",
      "execution_count": null,
      "metadata": {
        "id": "J_j50_FUwaki"
      },
      "outputs": [],
      "source": [
        "library_new = library_new.drop(columns='Notice Preference Code')\n",
        "library_new.head()"
      ]
    },
    {
      "cell_type": "markdown",
      "metadata": {
        "id": "b4YXkkw_waki"
      },
      "source": [
        "### Consolidating the dates\n",
        "**`Circulation Active Month`** and **`Circulation Active Year`** may be consolidated to a single field. We can always strip out the componenets later if we need them.\n",
        "\n",
        "Before we do this, let's take a look at the unique values/counts of each of these columns."
      ]
    },
    {
      "cell_type": "code",
      "execution_count": null,
      "metadata": {
        "id": "wnLxc2blwakj"
      },
      "outputs": [],
      "source": [
        "library['Circulation Active Month'].value_counts()"
      ]
    },
    {
      "cell_type": "code",
      "execution_count": null,
      "metadata": {
        "id": "7KaknyGiwakj"
      },
      "outputs": [],
      "source": [
        "library['Circulation Active Year'].value_counts()"
      ]
    },
    {
      "cell_type": "markdown",
      "metadata": {
        "id": "yQAZBPDMwakj"
      },
      "source": [
        "## Missing values?\n",
        "It appears there are missing values **'None'**, but our **`isna`** method didn't catch them. Let's look at the unique values to get a closer look."
      ]
    },
    {
      "cell_type": "code",
      "execution_count": null,
      "metadata": {
        "id": "52-sbod3wakj"
      },
      "outputs": [],
      "source": [
        "library['Circulation Active Month'].unique()"
      ]
    },
    {
      "cell_type": "markdown",
      "metadata": {
        "id": "Mx5iTmm4wakj"
      },
      "source": [
        "## Date Parsing\n",
        "There are multiple ways to construct dates with pandas. The **`to_datetime`** function is very flexible with what it accepts as a date string. Here, we simply concatenate the month and year and place a comma between the values."
      ]
    },
    {
      "cell_type": "code",
      "execution_count": null,
      "metadata": {
        "id": "xAYwOdqAwakj"
      },
      "outputs": [],
      "source": [
        "dates = library['Circulation Active Month'] + ', ' + library['Circulation Active Year']\n",
        "dates.head()"
      ]
    },
    {
      "cell_type": "code",
      "execution_count": null,
      "metadata": {
        "id": "capJ0BUnwakk"
      },
      "outputs": [],
      "source": [
        "pd.to_datetime(dates.head())"
      ]
    },
    {
      "cell_type": "code",
      "execution_count": null,
      "metadata": {
        "id": "DEdImtwPwakk"
      },
      "outputs": [],
      "source": [
        "circulation_ad = pd.to_datetime(dates, errors='coerce')"
      ]
    },
    {
      "cell_type": "markdown",
      "metadata": {
        "id": "isex3EyGwakk"
      },
      "source": [
        "## Use the **`insert`** method to put in new column in a specific place"
      ]
    },
    {
      "cell_type": "code",
      "execution_count": null,
      "metadata": {
        "id": "YggwinE9wakk"
      },
      "outputs": [],
      "source": [
        "loc = library_new.columns.get_loc('Circulation Active Month')\n",
        "loc"
      ]
    },
    {
      "cell_type": "markdown",
      "metadata": {
        "id": "u7GobLcwwakk"
      },
      "source": [
        "This happens **inplace**"
      ]
    },
    {
      "cell_type": "code",
      "execution_count": null,
      "metadata": {
        "id": "4VXH9Cwnwakk"
      },
      "outputs": [],
      "source": [
        "library_new.insert(loc, 'Circulation Active Date', circulation_ad)"
      ]
    },
    {
      "cell_type": "code",
      "execution_count": null,
      "metadata": {
        "id": "Y-17KUaCwakl"
      },
      "outputs": [],
      "source": [
        "library.head()"
      ]
    },
    {
      "cell_type": "code",
      "execution_count": null,
      "metadata": {
        "id": "2BRcydNnwakl"
      },
      "outputs": [],
      "source": [
        "circulation_ad.isna().sum()"
      ]
    },
    {
      "cell_type": "markdown",
      "metadata": {
        "id": "CRi8ffTWwakl"
      },
      "source": [
        "## Drop the old Circulation columns"
      ]
    },
    {
      "cell_type": "code",
      "execution_count": null,
      "metadata": {
        "id": "jUWt5-5rwakl"
      },
      "outputs": [],
      "source": [
        "library_new = library_new.drop(columns=['Circulation Active Year', 'Circulation Active Month'])\n",
        "library_new.head()"
      ]
    },
    {
      "cell_type": "markdown",
      "metadata": {
        "id": "SQipFPE5wakl"
      },
      "source": [
        "## One more set of columns - Home Library"
      ]
    },
    {
      "cell_type": "code",
      "execution_count": null,
      "metadata": {
        "id": "a47QzOvuwakl"
      },
      "outputs": [],
      "source": [
        "home_library_codes = pd.crosstab(library_new['Home Library Code'], library_new['Home Library Definition'])\n",
        "home_library_codes.head(10)"
      ]
    },
    {
      "cell_type": "code",
      "execution_count": null,
      "metadata": {
        "id": "gLvf4g9Zwakm"
      },
      "outputs": [],
      "source": [
        "home_library_codes.sum() == home_library_codes.max()"
      ]
    },
    {
      "cell_type": "markdown",
      "metadata": {
        "id": "_V6HPLtIwakm"
      },
      "source": [
        "## Not quite a one-to-one mapping \n",
        "Some codes have an **unknown description** If we drop the code column, we would be losing some information. If most of the unknowns belong to a single code, we might be able to drop it."
      ]
    },
    {
      "cell_type": "code",
      "execution_count": null,
      "metadata": {
        "id": "OczFqzZjwakm"
      },
      "outputs": [],
      "source": [
        "home_library_codes['Unknown'].sum(), home_library_codes['Unknown'].max()"
      ]
    },
    {
      "cell_type": "code",
      "execution_count": null,
      "metadata": {
        "id": "PiDXiwzQwakm"
      },
      "outputs": [],
      "source": [
        "home_library_codes['Unknown'].ne(0).sum()"
      ]
    },
    {
      "cell_type": "markdown",
      "metadata": {
        "id": "f1cVm9Kwwakm"
      },
      "source": [
        "There are 45 library codes that have atleast one unknown value. So, there could be value in keeping this column but for now, we will drop it to simplify our lives and make a note of this."
      ]
    },
    {
      "cell_type": "code",
      "execution_count": null,
      "metadata": {
        "id": "1Z2x3YZPwakm"
      },
      "outputs": [],
      "source": [
        "library_new = library_new.drop(columns='Home Library Code')\n",
        "library_new.head()"
      ]
    },
    {
      "cell_type": "markdown",
      "metadata": {
        "id": "zrq05gacwakn"
      },
      "source": [
        "## Clean-up data dictionary\n",
        "We have dropped several columns from our data. Let's drop them from the index of our data dictionary."
      ]
    },
    {
      "cell_type": "code",
      "execution_count": null,
      "metadata": {
        "id": "5708c-Bkwakn"
      },
      "outputs": [],
      "source": [
        "library_dd_new= library_dd_new.drop(index=['Patron Type Code', 'Home Library Code', \n",
        "                                           'Circulation Active Month', 'Circulation Active Year', \n",
        "                                           'Notice Preference Code'])\n",
        "library_dd_new"
      ]
    },
    {
      "cell_type": "markdown",
      "metadata": {
        "id": "Ec8-GZVOwako"
      },
      "source": [
        "# We also added a column to our data dictonary\n",
        "Let's append it to the bottom (and correct its placement later)"
      ]
    },
    {
      "cell_type": "code",
      "execution_count": null,
      "metadata": {
        "id": "mO5WdXejwako"
      },
      "outputs": [],
      "source": [
        "dtype = library_new.dtypes['Circulation Active Date']\n",
        "description = \"Date the patron last checked out library materials, or last logged into the library's \" \\\n",
        "              \"subscription databases from a computer outside the library. \"\n",
        "count_na = library_new['Circulation Active Date'].isna().sum()\n",
        "pct_na = library_new['Circulation Active Date'].isna().mean()\n",
        "note = 'This column replaced both Circulation Active Month/Year'"
      ]
    },
    {
      "cell_type": "code",
      "execution_count": null,
      "metadata": {
        "id": "6vMynmdrwako"
      },
      "outputs": [],
      "source": [
        "library_dd_new.loc['Circulation Active Date'] = [dtype, description, note, count_na, pct_na]"
      ]
    },
    {
      "cell_type": "code",
      "execution_count": null,
      "metadata": {
        "id": "tZNPY8bmwakp"
      },
      "outputs": [],
      "source": [
        "library_dd_new"
      ]
    },
    {
      "cell_type": "markdown",
      "metadata": {
        "id": "Ny5KwBwgwakp"
      },
      "source": [
        "## Add notes for **Code** columns that were dropped"
      ]
    },
    {
      "cell_type": "code",
      "execution_count": null,
      "metadata": {
        "id": "RTl2sQaPwakp"
      },
      "outputs": [],
      "source": [
        "library_dd_new.loc['Patron Type Definition', 'Note'] = 'Patron Code had 1-1 mapping and was subsequently dropped'\n",
        "library_dd_new.loc['Home Library Definition', 'Note'] = 'Home library code had nearly 1-1 mapping except for Unknown, but was stil dropped'\n",
        "library_dd_new.loc['Notice Preference Definition', 'Note'] = 'Patron Code had 1-1 mapping and was subsequently dropped'"
      ]
    },
    {
      "cell_type": "code",
      "execution_count": null,
      "metadata": {
        "id": "hEqSycl0wakq"
      },
      "outputs": [],
      "source": [
        "library_dd_new"
      ]
    },
    {
      "cell_type": "markdown",
      "metadata": {
        "id": "yRDgTgLZwakq"
      },
      "source": [
        "## Rearrange Columns\n",
        "Initial column order is not something set in stone. You can change the order to better suit your needs. Typically, categorical variables are placed before continuous variables, but you can create an arrangement that helps you analyze the data better."
      ]
    },
    {
      "cell_type": "code",
      "execution_count": null,
      "metadata": {
        "id": "jqwP-khXwakq"
      },
      "outputs": [],
      "source": [
        "library_new.head()"
      ]
    },
    {
      "cell_type": "markdown",
      "metadata": {
        "id": "AwaPPPrhwakr"
      },
      "source": [
        "It helps to print out the columns:"
      ]
    },
    {
      "cell_type": "code",
      "execution_count": null,
      "metadata": {
        "id": "f5HaE9bEwakr"
      },
      "outputs": [],
      "source": [
        "library_new.columns"
      ]
    },
    {
      "cell_type": "code",
      "execution_count": null,
      "metadata": {
        "id": "DoR4EG3Iwakr"
      },
      "outputs": [],
      "source": [
        "new_col_order = ['Patron Type Definition', 'Age Range', 'Home Library Definition', \n",
        "                 'Circulation Active Date', 'Total Checkouts', 'Total Renewals',\n",
        "                 'Notice Preference Definition', 'Provided Email Address',\n",
        "                 'Year Patron Registered', 'Outside of County', 'Supervisor District']\n",
        "len(new_col_order) == len(library_new.columns)"
      ]
    },
    {
      "cell_type": "code",
      "execution_count": null,
      "metadata": {
        "id": "DP5qwsIKwaks"
      },
      "outputs": [],
      "source": [
        "set(new_col_order) == set(library_new.columns)"
      ]
    },
    {
      "cell_type": "code",
      "execution_count": null,
      "metadata": {
        "id": "PRvPIGoOwaks"
      },
      "outputs": [],
      "source": [
        "library_new = library_new[new_col_order]\n",
        "library_new.head()"
      ]
    },
    {
      "cell_type": "markdown",
      "metadata": {
        "id": "erejf49qwaks"
      },
      "source": [
        "## Use these columns to rearrange the data dictionary as well"
      ]
    },
    {
      "cell_type": "code",
      "execution_count": null,
      "metadata": {
        "id": "E41c8tTrwakt"
      },
      "outputs": [],
      "source": [
        "library_dd_new.loc[new_col_order]"
      ]
    },
    {
      "cell_type": "markdown",
      "metadata": {
        "id": "QFaLh96-wakt"
      },
      "source": [
        "## Tidier data\n",
        "Data should now be easier to do analysis. There are other datasets that take quite a lot more work."
      ]
    },
    {
      "cell_type": "markdown",
      "metadata": {
        "id": "m8DkdAD6wakt"
      },
      "source": [
        "# Univariate Descriptive Statistics\n",
        "I generally recommend by starting with simple one-dimensional data analysis once you have tidy data. The chart in the checklist sheet can help you determine what graphical/non-graphical approaches you can take based on the type of data."
      ]
    },
    {
      "cell_type": "markdown",
      "metadata": {
        "id": "op4yHjn3wakt"
      },
      "source": [
        "## Using the describe method\n",
        "The describe method is good for getting the five-number summary (min, max, median, first/third quartiles) for continuous data. It also gives the number of unique values and most common value for the categorical values."
      ]
    },
    {
      "cell_type": "code",
      "execution_count": null,
      "metadata": {
        "id": "KmiqY46ewakt"
      },
      "outputs": [],
      "source": [
        "library_new.describe(include='O').T"
      ]
    },
    {
      "cell_type": "markdown",
      "metadata": {
        "id": "tsNbMi4Kwaku"
      },
      "source": [
        "Let's add the number of unique values to our data dictionary"
      ]
    },
    {
      "cell_type": "code",
      "execution_count": null,
      "metadata": {
        "id": "cfJJr-2Gwaku"
      },
      "outputs": [],
      "source": [
        "library_new.nunique()"
      ]
    },
    {
      "cell_type": "code",
      "execution_count": null,
      "metadata": {
        "id": "2jgNinj9waku"
      },
      "outputs": [],
      "source": [
        "library_dd_new['count unique'] = library_new.nunique()\n",
        "library_dd_new"
      ]
    },
    {
      "cell_type": "markdown",
      "metadata": {
        "id": "rcw_YS40waku"
      },
      "source": [
        "## Being efficient with categorical data\n",
        "Pandas has a specific data type for dealing with low-cardinality text columns"
      ]
    },
    {
      "cell_type": "code",
      "execution_count": null,
      "metadata": {
        "id": "oYe6_KP7waku"
      },
      "outputs": [],
      "source": [
        "library_new.memory_usage(deep=True)"
      ]
    },
    {
      "cell_type": "code",
      "execution_count": null,
      "metadata": {
        "id": "ucaPkPUkwaku"
      },
      "outputs": [],
      "source": [
        "library_new = library_new.astype({'Patron Type Definition': 'category',\n",
        "                                  'Age Range': 'category',\n",
        "                                  'Home Library Definition': 'category',\n",
        "                                 'Notice Preference Definition': 'category'})\n",
        "library_new.dtypes"
      ]
    },
    {
      "cell_type": "code",
      "execution_count": null,
      "metadata": {
        "id": "CIippyi-wakv"
      },
      "outputs": [],
      "source": [
        "library_dd_new['Data Type'] = library_new.dtypes\n",
        "library_dd_new"
      ]
    },
    {
      "cell_type": "code",
      "execution_count": null,
      "metadata": {
        "id": "m2uQg8zowakv"
      },
      "outputs": [],
      "source": [
        "# huge decrease in memory\n",
        "library_new.memory_usage(deep=True)"
      ]
    },
    {
      "cell_type": "markdown",
      "metadata": {
        "id": "OPLeVmQnwakv"
      },
      "source": [
        "# Example for Categorical Data\n",
        "* Use frequency counts for categorical data (non-graphical)\n",
        "* Bar charts (graphical)"
      ]
    },
    {
      "cell_type": "code",
      "execution_count": null,
      "metadata": {
        "id": "Nnpb9_egwakv"
      },
      "outputs": [],
      "source": [
        "library_new['Patron Type Definition'].value_counts(normalize=True).head()"
      ]
    },
    {
      "cell_type": "code",
      "execution_count": null,
      "metadata": {
        "id": "y2e2o2JMwakv"
      },
      "outputs": [],
      "source": [
        "library_new['Patron Type Definition'].value_counts().plot(kind='bar')"
      ]
    },
    {
      "cell_type": "markdown",
      "metadata": {
        "id": "-dHazeY0wakv"
      },
      "source": [
        "## Categorical Outliers\n",
        "Categories with low counts can be examined further."
      ]
    },
    {
      "cell_type": "code",
      "execution_count": null,
      "metadata": {
        "id": "pMgez_qhwakw"
      },
      "outputs": [],
      "source": [
        "library_new['Patron Type Definition'].value_counts()"
      ]
    },
    {
      "cell_type": "markdown",
      "metadata": {
        "id": "Otw_619Owakw"
      },
      "source": [
        "## Create an extra column to label these as outliers"
      ]
    },
    {
      "cell_type": "code",
      "execution_count": null,
      "metadata": {
        "id": "WZTM-CArwakw"
      },
      "outputs": [],
      "source": [
        "library_new['Patron Type Definition'].value_counts().lt(100)[lambda x: x].index"
      ]
    },
    {
      "cell_type": "code",
      "execution_count": null,
      "metadata": {
        "id": "Cn5iOyRFwakx"
      },
      "outputs": [],
      "source": [
        "patron_outliers = ['BOOKS BY MAIL', 'AT USER SENIOR', 'AT USER JUVENILE',\n",
        "                   'AT USER WELCOME', 'AT USER TEEN', 'FRIENDS FOR LIFE']"
      ]
    },
    {
      "cell_type": "code",
      "execution_count": null,
      "metadata": {
        "id": "cjXXr1Zcwakx"
      },
      "outputs": [],
      "source": [
        "library_new['Patron Outliers'] = library_new['Patron Type Definition'].isin(patron_outliers)\n",
        "library_new.head()"
      ]
    },
    {
      "cell_type": "markdown",
      "metadata": {
        "id": "nYAlXVixwakx"
      },
      "source": [
        "# Univariate Analysis with Continuous data\n",
        "Good idea to start with describe method"
      ]
    },
    {
      "cell_type": "code",
      "execution_count": null,
      "metadata": {
        "id": "lUJDlVe4waky"
      },
      "outputs": [],
      "source": [
        "summary_cont = library_new.describe().T.loc[:, 'mean':]\n",
        "summary_cont"
      ]
    },
    {
      "cell_type": "markdown",
      "metadata": {
        "id": "m_les9Zxwaky"
      },
      "source": [
        "## Possibly add 5 number summary to data dictionary\n",
        "But, it adds quite a bit messiness"
      ]
    },
    {
      "cell_type": "code",
      "execution_count": null,
      "metadata": {
        "id": "kKU4TEw3waky"
      },
      "outputs": [],
      "source": [
        "library_dd_new.join(summary_cont)"
      ]
    },
    {
      "cell_type": "markdown",
      "metadata": {
        "id": "xFGTec1zwak0"
      },
      "source": [
        "## Get a sense of the distribution\n",
        "Histograms are great for this"
      ]
    },
    {
      "cell_type": "code",
      "execution_count": null,
      "metadata": {
        "id": "SCHQsbRPwak0"
      },
      "outputs": [],
      "source": [
        "library_new['Total Checkouts'].plot(kind='hist', bins=50)"
      ]
    },
    {
      "cell_type": "markdown",
      "metadata": {
        "id": "6rdcQSOEwak1"
      },
      "source": [
        "Looks like there are some extreme outliers here"
      ]
    },
    {
      "cell_type": "code",
      "execution_count": null,
      "metadata": {
        "id": "njE3OZq2wak1"
      },
      "outputs": [],
      "source": [
        "sns.boxplot('Total Checkouts',  data=library_new)"
      ]
    },
    {
      "cell_type": "markdown",
      "metadata": {
        "id": "cizcSeoXwak1"
      },
      "source": [
        "### Choose a cut-off and examine those points later"
      ]
    },
    {
      "cell_type": "code",
      "execution_count": null,
      "metadata": {
        "id": "Gk3ZU6-1wak2"
      },
      "outputs": [],
      "source": [
        "(library_new['Total Checkouts'] > 5000).mean()"
      ]
    },
    {
      "cell_type": "markdown",
      "metadata": {
        "id": "zx0BDI9ywak2"
      },
      "source": [
        "## Can add these as outliers again"
      ]
    },
    {
      "cell_type": "code",
      "execution_count": null,
      "metadata": {
        "id": "7-epaykBwak2"
      },
      "outputs": [],
      "source": [
        "library_new['Outlier Total Checkouts'] = library_new['Total Checkouts'] > 5000"
      ]
    },
    {
      "cell_type": "markdown",
      "metadata": {
        "id": "2CxoBue6wak3"
      },
      "source": [
        "## Filter for outliers:"
      ]
    },
    {
      "cell_type": "code",
      "execution_count": null,
      "metadata": {
        "id": "MY0REyPbwak3"
      },
      "outputs": [],
      "source": [
        "library_new[library_new['Outlier Total Checkouts']].head()"
      ]
    },
    {
      "cell_type": "markdown",
      "metadata": {
        "id": "AUIzN3Dwwak3"
      },
      "source": [
        "# Continue with checklist\n",
        "* Multivariate Analysis\n",
        "* Check for duplicated rows\n",
        "* Bootstrap to get more samples"
      ]
    },
    {
      "cell_type": "code",
      "execution_count": null,
      "metadata": {
        "id": "0XxJTcxxwak4"
      },
      "outputs": [],
      "source": [
        ""
      ]
    }
  ],
  "metadata": {
    "kernelspec": {
      "display_name": "Python 3",
      "language": "python",
      "name": "python3"
    },
    "language_info": {
      "codemirror_mode": {
        "name": "ipython",
        "version": 3
      },
      "file_extension": ".py",
      "mimetype": "text/x-python",
      "name": "python",
      "nbconvert_exporter": "python",
      "pygments_lexer": "ipython3",
      "version": "3.6.3"
    },
    "colab": {
      "name": "Exploring Library Usage in San Francisco.ipynb",
      "provenance": [],
      "include_colab_link": true
    }
  },
  "nbformat": 4,
  "nbformat_minor": 0
}